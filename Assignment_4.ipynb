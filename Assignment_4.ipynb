{
 "cells": [
  {
   "cell_type": "code",
   "execution_count": null,
   "id": "f762b398",
   "metadata": {},
   "outputs": [],
   "source": [
    "\"\"\"\n",
    "1. Its an empty list.\n",
    "\n",
    "2. spam.insert(2,'hello')\n",
    "\n",
    "3. Output: d\n",
    "\n",
    "4. Output: d\n",
    "\n",
    "5. Output: ['a', 'b']\n",
    "\n",
    "6. 1\n",
    "\n",
    "7. [3.14,'cat',11,'cat',True,99]\n",
    "\n",
    "8.[3.14,11,True,99]\n",
    "\n",
    "9.List concatenation operator: \"+\"\n",
    "List replication operator: \"*\"\n",
    "\n",
    "10. append():adds a new element at the end of a list.\n",
    "insert(): takes two argument, position and value so it helps to add an elemenent at any indext position.\n",
    "\n",
    "11. list has two possible ways to remove an element \n",
    "\n",
    "a)list.remove(\"element\") and by using list.pop().\n",
    "\n",
    "12. Both list and string have index values, \n",
    "they perform replication and concatenation, \n",
    "we can loop through their data.Slcing is possible in both the cases\n",
    "\n",
    "13. Tuples are immutable collection of data stored in () brackets. \n",
    "Whereas lists are mutable collection of data stored in [] brackets. \n",
    "\n",
    "14. tup=(14)\n",
    "\n",
    "15. a) list=[1,2,3,4]\n",
    "       tuple(list)\n",
    "       print(list)\n",
    "       \n",
    "    b) t=(1,2,3,4)\n",
    "       list(t)\n",
    "       print(t)\n",
    "        \n",
    "\n",
    "16. a=['a',1,1.5]\n",
    "\n",
    "    b=a[0] Here, b is a string\n",
    "    c=a[1] Here c is a integer \n",
    "    d= a[2] Here d is a float \n",
    "    \n",
    "    So, they contain the values and their respective data types.\n",
    "    \n",
    "17. copy.copy() is shallow copy. In a nested list when we try to change the value of the second list, \n",
    "both the values in first and second lsit  changes because it allocates same memory location. \n",
    "Whereas in deep copy a with each new copy, a different location is given to the data \n",
    "\n",
    "\n",
    "For eg:\n",
    "\n",
    "\n",
    "\"\"\""
   ]
  },
  {
   "cell_type": "code",
   "execution_count": 1,
   "id": "12a0d06f",
   "metadata": {},
   "outputs": [],
   "source": [
    "##copy.copy()\n",
    "\n",
    "lst1=[[1,2,3,4],[5,6,7,8]]\n",
    "lst2=lst1.copy()"
   ]
  },
  {
   "cell_type": "code",
   "execution_count": 2,
   "id": "c4fa1aeb",
   "metadata": {},
   "outputs": [
    {
     "data": {
      "text/plain": [
       "[[1, 2, 3, 4], [5, 6, 7, 8]]"
      ]
     },
     "execution_count": 2,
     "metadata": {},
     "output_type": "execute_result"
    }
   ],
   "source": [
    "lst2\n"
   ]
  },
  {
   "cell_type": "code",
   "execution_count": 3,
   "id": "3ce37b86",
   "metadata": {},
   "outputs": [],
   "source": [
    "lst2[0][0]=10"
   ]
  },
  {
   "cell_type": "code",
   "execution_count": 4,
   "id": "73df068d",
   "metadata": {},
   "outputs": [
    {
     "data": {
      "text/plain": [
       "[[10, 2, 3, 4], [5, 6, 7, 8]]"
      ]
     },
     "execution_count": 4,
     "metadata": {},
     "output_type": "execute_result"
    }
   ],
   "source": [
    "lst2\n"
   ]
  },
  {
   "cell_type": "code",
   "execution_count": 5,
   "id": "83e2cfdf",
   "metadata": {},
   "outputs": [
    {
     "data": {
      "text/plain": [
       "[[10, 2, 3, 4], [5, 6, 7, 8]]"
      ]
     },
     "execution_count": 5,
     "metadata": {},
     "output_type": "execute_result"
    }
   ],
   "source": [
    "lst1"
   ]
  },
  {
   "cell_type": "code",
   "execution_count": 6,
   "id": "f2c0006a",
   "metadata": {},
   "outputs": [],
   "source": [
    "## Here the values of lst 1 at [0][0] also changes "
   ]
  },
  {
   "cell_type": "code",
   "execution_count": 9,
   "id": "6d550a71",
   "metadata": {},
   "outputs": [],
   "source": [
    "import copy\n",
    "lst3=[[1,2,3,4],[5,6,7,8]]\n",
    "lst4=copy.deepcopy(lst3)"
   ]
  },
  {
   "cell_type": "code",
   "execution_count": 10,
   "id": "da619c97",
   "metadata": {},
   "outputs": [
    {
     "data": {
      "text/plain": [
       "[[1, 2, 3, 4], [5, 6, 7, 8]]"
      ]
     },
     "execution_count": 10,
     "metadata": {},
     "output_type": "execute_result"
    }
   ],
   "source": [
    "lst4"
   ]
  },
  {
   "cell_type": "code",
   "execution_count": 11,
   "id": "309c887b",
   "metadata": {},
   "outputs": [
    {
     "data": {
      "text/plain": [
       "[[10, 2, 3, 4], [5, 6, 7, 8]]"
      ]
     },
     "execution_count": 11,
     "metadata": {},
     "output_type": "execute_result"
    }
   ],
   "source": [
    "lst4[0][0]=10\n",
    "lst4"
   ]
  },
  {
   "cell_type": "code",
   "execution_count": 12,
   "id": "71b8c932",
   "metadata": {},
   "outputs": [
    {
     "data": {
      "text/plain": [
       "[[1, 2, 3, 4], [5, 6, 7, 8]]"
      ]
     },
     "execution_count": 12,
     "metadata": {},
     "output_type": "execute_result"
    }
   ],
   "source": [
    "lst3"
   ]
  },
  {
   "cell_type": "code",
   "execution_count": null,
   "id": "620ade52",
   "metadata": {},
   "outputs": [],
   "source": [
    "##Here in deepcopy the elements are not affected in lst3 due to varied memory allocation."
   ]
  }
 ],
 "metadata": {
  "kernelspec": {
   "display_name": "Python 3 (ipykernel)",
   "language": "python",
   "name": "python3"
  },
  "language_info": {
   "codemirror_mode": {
    "name": "ipython",
    "version": 3
   },
   "file_extension": ".py",
   "mimetype": "text/x-python",
   "name": "python",
   "nbconvert_exporter": "python",
   "pygments_lexer": "ipython3",
   "version": "3.9.12"
  }
 },
 "nbformat": 4,
 "nbformat_minor": 5
}
