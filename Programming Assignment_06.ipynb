{
 "cells": [
  {
   "cell_type": "code",
   "execution_count": 3,
   "id": "39065e01",
   "metadata": {},
   "outputs": [
    {
     "name": "stdout",
     "output_type": "stream",
     "text": [
      "Enter the no of count: 7\n",
      "0 1 1 2 3 5 8 "
     ]
    }
   ],
   "source": [
    "#1. Display fibonacci sequence using Recursion\n",
    "\n",
    "def fib(n):\n",
    "    if n<=1:\n",
    "        return n\n",
    "    else:\n",
    "        return(fib(n-1)+fib(n-2))\n",
    "\n",
    "count=int(input(\"Enter the no of count: \"))\n",
    "\n",
    "if count<=0:\n",
    "    print(\"Please enter minimum value of 2\")\n",
    "else:\n",
    "    for i in range(count):\n",
    "        print(fib(i),end=\" \")"
   ]
  },
  {
   "cell_type": "code",
   "execution_count": 4,
   "id": "f3d9a21a",
   "metadata": {},
   "outputs": [
    {
     "name": "stdout",
     "output_type": "stream",
     "text": [
      "Enter a number: 5\n",
      "The factorial of  5 is  120\n"
     ]
    }
   ],
   "source": [
    "#2. Factorial of a number\n",
    "\n",
    "def factorial(num):\n",
    "    if (num<1):\n",
    "        return 1\n",
    "    else:\n",
    "        return num*factorial(num-1)\n",
    "\n",
    "num=int(input(\"Enter a number: \"))\n",
    "value=factorial(num)\n",
    "print(\"The factorial of \",num, \"is \",value)"
   ]
  },
  {
   "cell_type": "code",
   "execution_count": 9,
   "id": "e72691cd",
   "metadata": {},
   "outputs": [
    {
     "name": "stdout",
     "output_type": "stream",
     "text": [
      "Enter your weight(kgs): 78\n",
      "Enter your height:  1.64\n",
      "Your BMI is  29.000594883997625 and status is  Obese\n"
     ]
    }
   ],
   "source": [
    "#3. Write a python program to calculate your Body Mass Index\n",
    "\n",
    "def calculateBMI():\n",
    "    wt=eval(input(\"Enter your weight(kgs): \"))\n",
    "    ht=eval(input(\"Enter your height:  \"))\n",
    "    cal=wt/pow(ht,2)\n",
    "    \n",
    "    if cal<18.5:\n",
    "        state=\"Underweight\"\n",
    "    elif cal>=18.5 and cal<24.9:\n",
    "        state=\"Healty\"\n",
    "    elif cal>=24.9 and cal<30:\n",
    "        state=\"Obese\"\n",
    "    elif cal>=30:\n",
    "        state=\"Suffering from Obesity\"\n",
    "        \n",
    "    print(\"Your BMI is \",cal,\"and status is \",state)\n",
    "\n",
    "calculateBMI()\n"
   ]
  },
  {
   "cell_type": "code",
   "execution_count": 11,
   "id": "6d908608",
   "metadata": {},
   "outputs": [
    {
     "name": "stdout",
     "output_type": "stream",
     "text": [
      "Enter a number: 45\n",
      "3.8066624897703196\n"
     ]
    }
   ],
   "source": [
    "#4. Python Program to Calculate the natural logarithm of any Number \n",
    "import math\n",
    "def Nl():\n",
    "    num=eval(input(\"Enter a number: \"))\n",
    "    print(math.log(num))\n",
    "    \n",
    "Nl()"
   ]
  },
  {
   "cell_type": "code",
   "execution_count": 10,
   "id": "670b15ac",
   "metadata": {},
   "outputs": [
    {
     "name": "stdout",
     "output_type": "stream",
     "text": [
      "Enter the no of Natural Numbers: 4\n",
      "The Cube Sum of First 4 Natural Numbers is 100.0\n"
     ]
    }
   ],
   "source": [
    "#5. Python program for Cube sum of first n Natural Numbers\n",
    "def cubeOfNaturalNumbers():\n",
    "    in_num = int(input(\"Enter the no of Natural Numbers: \"))\n",
    "    result = pow(((in_num * (in_num +1))/2),2)\n",
    "    print(f'The Cube Sum of First {in_num} Natural Numbers is {result}')\n",
    "\n",
    "cubeOfNaturalNumbers()"
   ]
  }
 ],
 "metadata": {
  "kernelspec": {
   "display_name": "Python 3 (ipykernel)",
   "language": "python",
   "name": "python3"
  },
  "language_info": {
   "codemirror_mode": {
    "name": "ipython",
    "version": 3
   },
   "file_extension": ".py",
   "mimetype": "text/x-python",
   "name": "python",
   "nbconvert_exporter": "python",
   "pygments_lexer": "ipython3",
   "version": "3.9.12"
  }
 },
 "nbformat": 4,
 "nbformat_minor": 5
}
