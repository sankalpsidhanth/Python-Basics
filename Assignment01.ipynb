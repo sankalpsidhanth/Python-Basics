{
 "cells": [
  {
   "cell_type": "code",
   "execution_count": null,
   "id": "454939cd",
   "metadata": {},
   "outputs": [],
   "source": [
    "\"\"\"\n",
    "1.Values- 'hello',-87.8,6 Expressions:- *,-,/,+\n",
    "\n",
    "\n",
    "2.String:- A collection of literals enclosed in a single or double quotations. \n",
    "Function used to represent string is str(). \n",
    "Variable-Its a reserved memory location to store data.\n",
    "It could be of two types depending on its scope, they are, global and local variables.\n",
    "\n",
    "3.Integer- Any positive or negative whole numbers falls under this category. Eg; 10,-10,20,30,-1. \n",
    "Float- Any decimal value. Eg:-0.1,0.9,9.9999. \n",
    "String- A collection of literals enclosed in single or double quotations. Eg: \"Sankalp\",\"-0.99\",\"True\",\"False\",\"123\".\n",
    "\n",
    "4.Expression: A piece of code that can be evaluated to a value, it includes operators, function calls, or just mere literals. Eg: 5+9, 7*9-2\n",
    "\n",
    "5.spam=10 is an assignment statement which tells the computer to store 10 inside the variable 'spam'. \n",
    "But from an expression we would expect an output, for example,\"spam\"+str(10). \n",
    "A statement in simple words tells the computer to complete a specific task. \n",
    "Whereas an expression is a piece of code gives us a certain value in return.\n",
    "\n",
    "6.23\n",
    "\n",
    "7.spamspamspam \n",
    "spamspamspam\n",
    "\n",
    "8.Because a variable can not contain just numbers. It has to start with alphabets or with an underscode. \n",
    "A number by defalt is considered as an intger.\n",
    "\n",
    "9.int(),float(),str()\n",
    "\n",
    "10. We can not concatenate an integer with a string, so have an error. We need to typecast 99 with str(99) to fix this.\n",
    "\n",
    "\n",
    "\"\"\""
   ]
  }
 ],
 "metadata": {
  "kernelspec": {
   "display_name": "Python 3 (ipykernel)",
   "language": "python",
   "name": "python3"
  },
  "language_info": {
   "codemirror_mode": {
    "name": "ipython",
    "version": 3
   },
   "file_extension": ".py",
   "mimetype": "text/x-python",
   "name": "python",
   "nbconvert_exporter": "python",
   "pygments_lexer": "ipython3",
   "version": "3.9.12"
  }
 },
 "nbformat": 4,
 "nbformat_minor": 5
}
