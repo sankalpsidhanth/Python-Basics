{
 "cells": [
  {
   "cell_type": "code",
   "execution_count": null,
   "id": "a3c66fab",
   "metadata": {},
   "outputs": [],
   "source": [
    "\"\"\"\n",
    "1. dic={}\n",
    "\n",
    "2. a={\"foo\":42}\n",
    "\n",
    "3. Dictionary are faster than list in finding out elements .So, dictionaries are more significant\n",
    "\n",
    "4. We will get key error \n",
    "\n",
    "5. \"cat\" in spam means we are checking if any key named 'cat ' exists in the list or not.\n",
    "'cat' in spam.keys() means we are checking if 'cat' exists in the keys or not. So technically both are same thing.\n",
    "\n",
    "6. In the first case, we are checking for \"cat \" key in the list. \n",
    "In the second case, we are checking if any value named \"cat\" exists in the list or not.\n",
    "        \n",
    "7. spam.setdefault ('color','black')\n",
    "\n",
    "8. pprint.pprint()\n",
    "\n",
    "\n",
    "\n",
    "\"\"\""
   ]
  }
 ],
 "metadata": {
  "kernelspec": {
   "display_name": "Python 3 (ipykernel)",
   "language": "python",
   "name": "python3"
  },
  "language_info": {
   "codemirror_mode": {
    "name": "ipython",
    "version": 3
   },
   "file_extension": ".py",
   "mimetype": "text/x-python",
   "name": "python",
   "nbconvert_exporter": "python",
   "pygments_lexer": "ipython3",
   "version": "3.9.12"
  }
 },
 "nbformat": 4,
 "nbformat_minor": 5
}
