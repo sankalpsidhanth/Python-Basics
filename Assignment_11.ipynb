{
 "cells": [
  {
   "cell_type": "code",
   "execution_count": null,
   "id": "2d854093",
   "metadata": {},
   "outputs": [],
   "source": [
    "\"\"\"\n",
    "1.assert spam<0, 'The spam variable is a negative integer.'\n",
    "\n",
    "2. assert eggs.lower() != bacon.lower(), 'The eggs and bacon variables are the same!' or assert eggs.upper() != bacon.upper(), 'The eggs and bacon variables are the same!'\n",
    "\n",
    "3.assert False, 'This assertion always triggers.'\n",
    "\n",
    "4.import logging\n",
    "logging.basicConfig(level=logging.DEBUG, format=' %(asctime)s -\n",
    "%(levelname)s - %(message)s')\n",
    "\n",
    "5. import logging\n",
    "\n",
    "logging.basicConfig(filename='programLog.txt', level=logging.DEBUG,\n",
    "\n",
    "format=' %(asctime)s - %(levelname)s - %(message)s')\n",
    "\n",
    "6. DEBUG, INFO, WARNING, ERROR, and CRITICAL\n",
    "\n",
    "7. logging.disable(logging.CRITICAL)\n",
    "\n",
    "8. You can disable logging messages without removing the logging function calls. You can selectively disable lower-level logging messages.\n",
    "You can create logging messages. Logging messages provides a timestamp.\n",
    "\n",
    "9.The Step button will move the debugger into a function call. \n",
    "The Over button will quickly execute the function call without stepping into it. \n",
    "The Out button will quickly execute the rest of the code until it steps out of the function it currently is in.\n",
    "\n",
    "10.The debugger will stop when it has reached the end of the program or a line with a breakpoint.\n",
    "\n",
    "11.  Breakpoint is a setting on a line of code that causes the debugger to \n",
    "pause when the program execution reaches the line.\n",
    "\n",
    "\n",
    "\n",
    "\"\"\""
   ]
  }
 ],
 "metadata": {
  "kernelspec": {
   "display_name": "Python 3 (ipykernel)",
   "language": "python",
   "name": "python3"
  },
  "language_info": {
   "codemirror_mode": {
    "name": "ipython",
    "version": 3
   },
   "file_extension": ".py",
   "mimetype": "text/x-python",
   "name": "python",
   "nbconvert_exporter": "python",
   "pygments_lexer": "ipython3",
   "version": "3.9.12"
  }
 },
 "nbformat": 4,
 "nbformat_minor": 5
}
