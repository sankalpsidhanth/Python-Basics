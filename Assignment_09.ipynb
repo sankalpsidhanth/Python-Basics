{
  "metadata": {
    "language_info": {
      "name": ""
    },
    "kernelspec": {
      "name": "",
      "display_name": ""
    }
  },
  "nbformat_minor": 4,
  "nbformat": 4,
  "cells": [
    {
      "cell_type": "code",
      "source": "\"\"\"\n1. A relative path that depicts the location of a file or folder is relative to the current working directory.\n\n2. An absolute path refers to the complete details needed to locate a file or folder, \nstarting from the root element and ending with the other subdirectories. \n\n3.os.getcwd(): It tells the location of current working directory\nos.chdir(): Used to change the current working directory to specified path\n\n4.The . is the current directory, while .. signifies the parent directory. \nIt makes things quicker at the command line as well so you don't need to type out full paths.\n\n5. C:\\bacon\\eggs is the dir name, while spam.txt is the base name.\n\n6. The string 'r' for read mode, 'w' for write mode, and 'a' for append mode\n\n7. An existing file opened in write mode is erased and completely overwritten.\n\n8. The read() method returns the file's entire contents as a single string value. \nThe readlines() method returns a list of strings, where each string is a line from the file's contents.\n\n9. A shelf value resembles a dictionary value; it has keys and values, along with keys() and values() methods that work similarly to the dictionary methods of the same names.\n\"\"\"",
      "metadata": {},
      "execution_count": null,
      "outputs": []
    }
  ]
}