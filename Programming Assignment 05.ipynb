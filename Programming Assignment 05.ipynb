{
 "cells": [
  {
   "cell_type": "code",
   "execution_count": 4,
   "id": "bdcfac3a",
   "metadata": {},
   "outputs": [
    {
     "name": "stdout",
     "output_type": "stream",
     "text": [
      "Enter First number:  12\n",
      "Enter second Number: 4\n",
      "The LCM of  12  and  4  is  12\n"
     ]
    }
   ],
   "source": [
    "# 1. Python program to find LCM\n",
    "\n",
    "a=int(input(\"Enter First number:  \"))\n",
    "b=int(input(\"Enter second Number: \"))\n",
    "\n",
    "max_num=max(a,b)\n",
    "\n",
    "while True:\n",
    "    if ((max_num%a==0)and (max_num%b==0)):\n",
    "        break\n",
    "    max_num+=1\n",
    "    \n",
    "print(\"The LCM of \",a,\" and \",b ,\" is \",max_num)\n"
   ]
  },
  {
   "cell_type": "code",
   "execution_count": 6,
   "id": "4d71c945",
   "metadata": {},
   "outputs": [
    {
     "name": "stdout",
     "output_type": "stream",
     "text": [
      "Enter first number: 20\n",
      "Enter second number: 12\n",
      "HCF of  20 and  12  is  4\n"
     ]
    }
   ],
   "source": [
    "#2. Pyhton program to find HCF \n",
    "\n",
    "n1=int(input(\"Enter first number: \"))\n",
    "n2=int(input(\"Enter second number: \"))\n",
    "\n",
    "mn=min(n1,n2)\n",
    "\n",
    "for i in range(1,mn+1):\n",
    "    if (n1%i==0)and (n2%i==0):\n",
    "        hcf=i\n",
    "        \n",
    "print(\"HCF of \",n1, \"and \",n2,\" is \", hcf)\n",
    "\n",
    "        "
   ]
  },
  {
   "cell_type": "code",
   "execution_count": 7,
   "id": "0a5d2af2",
   "metadata": {},
   "outputs": [
    {
     "name": "stdout",
     "output_type": "stream",
     "text": [
      "Enter your decimal number 5\n",
      "Binary of  5 is:  0b101\n",
      "Octal of  5 is:  0o5\n",
      "Hexadecimal of  5 is:  0x5\n"
     ]
    }
   ],
   "source": [
    "#3 Python progrma to convert decimal to binary, octal and hexadecimal\n",
    "num=int(input(\"Enter your decimal number \"))\n",
    "print(\"Binary of \",num,\"is: \",bin(num))\n",
    "print(\"Octal of \",num,\"is: \",oct(num))\n",
    "print(\"Hexadecimal of \",num,\"is: \",hex(num))\n"
   ]
  },
  {
   "cell_type": "code",
   "execution_count": 8,
   "id": "f130ad74",
   "metadata": {},
   "outputs": [
    {
     "name": "stdout",
     "output_type": "stream",
     "text": [
      "Enter your character: b\n",
      "ASCII Value of  b  is 98\n"
     ]
    }
   ],
   "source": [
    "#4. Python program to find ASCII value of a character \n",
    "char=input(\"Enter your character: \")\n",
    "print(\"ASCII Value of \",char, \" is\",ord(char))"
   ]
  },
  {
   "cell_type": "code",
   "execution_count": 12,
   "id": "f77ea929",
   "metadata": {},
   "outputs": [
    {
     "name": "stdout",
     "output_type": "stream",
     "text": [
      "First number: 34\n",
      "Second Number: 45\n",
      "Addition:  79\n",
      "Subtraction:  -11\n",
      "Multiplication:  1530\n",
      "Division:  0.7555555555555555\n"
     ]
    }
   ],
   "source": [
    "def cal(a,b):\n",
    "    print(\"Addition: \",a+b)\n",
    "    print(\"Subtraction: \",a-b)\n",
    "    print(\"Multiplication: \",a*b)\n",
    "    print(\"Division: \",a/b)\n",
    "\n",
    "x=int(input(\"First number: \"))\n",
    "y=int(input(\"Second Number: \"))\n",
    "\n",
    "cal(x,y)\n",
    "\n",
    "    "
   ]
  },
  {
   "cell_type": "code",
   "execution_count": null,
   "id": "71e423d0",
   "metadata": {},
   "outputs": [],
   "source": []
  }
 ],
 "metadata": {
  "kernelspec": {
   "display_name": "Python 3 (ipykernel)",
   "language": "python",
   "name": "python3"
  },
  "language_info": {
   "codemirror_mode": {
    "name": "ipython",
    "version": 3
   },
   "file_extension": ".py",
   "mimetype": "text/x-python",
   "name": "python",
   "nbconvert_exporter": "python",
   "pygments_lexer": "ipython3",
   "version": "3.9.12"
  }
 },
 "nbformat": 4,
 "nbformat_minor": 5
}
