{
  "metadata": {
    "language_info": {
      "codemirror_mode": {
        "name": "python",
        "version": 3
      },
      "file_extension": ".py",
      "mimetype": "text/x-python",
      "name": "python",
      "nbconvert_exporter": "python",
      "pygments_lexer": "ipython3",
      "version": "3.8"
    },
    "kernelspec": {
      "name": "python",
      "display_name": "Pyolite",
      "language": "python"
    }
  },
  "nbformat_minor": 4,
  "nbformat": 4,
  "cells": [
    {
      "cell_type": "markdown",
      "source": "\n1. The two values of boolean data type are True and False \n2. Three boolean operator: AND , OR, NOT\n3. a) AND: Any one statement is false, whole output would be false.\n    T-T=T,T-F=F,F-T=F,F-F=F\nb) OR: Any one statement is true, output would be True.\n    T-T=T,T-F=T,F-T=T,F-F=F\nc) NOT: Reverses the value of the output\n    T=F,F=T\n\n4. a)False b)False c)True d)Fasle e)False f)True\n5. <,<=,>,>=,==,!=\n\n",
      "metadata": {}
    },
    {
      "cell_type": "code",
      "source": "#6 \na=10 # Here value of 10 is stored inside the variable a \na",
      "metadata": {
        "trusted": true
      },
      "execution_count": 5,
      "outputs": [
        {
          "execution_count": 5,
          "output_type": "execute_result",
          "data": {
            "text/plain": "10"
          },
          "metadata": {}
        }
      ]
    },
    {
      "cell_type": "code",
      "source": "#We are getting a numerical output if we print a \n",
      "metadata": {
        "trusted": true
      },
      "execution_count": 6,
      "outputs": []
    },
    {
      "cell_type": "code",
      "source": "a==2*5 #Here we are comparing the value in the left to value in the right which will give us a boolean ouput",
      "metadata": {
        "trusted": true
      },
      "execution_count": 7,
      "outputs": [
        {
          "execution_count": 7,
          "output_type": "execute_result",
          "data": {
            "text/plain": "True"
          },
          "metadata": {}
        }
      ]
    },
    {
      "cell_type": "code",
      "source": "#7. The three blocks are \n\"\"\"\na) spam=10\n\nb)if spam==10:\n    print('eggs')\n    \nc)if spam>5:\n    print('bacon')\n    \nelse:\n    print('ham')\n    print('spam')\n    print('spam')\n\"\"\"\n    ",
      "metadata": {
        "trusted": true
      },
      "execution_count": 10,
      "outputs": [
        {
          "execution_count": 10,
          "output_type": "execute_result",
          "data": {
            "text/plain": "\"\\na) spam=10\\n\\nb)if spam==10:\\n    print('eggs')\\n    \\nc)if spam>5:\\n    print('bacon')\\n    \\nelse:\\n    print('ham')\\n    print('spam')\\n    print('spam')\\n\""
          },
          "metadata": {}
        }
      ]
    },
    {
      "cell_type": "code",
      "source": "#8\nspam=int(input(\"Enter the number: \"))\n\nif spam==1:\n    print(\"Hello\")\nelif spam==2:\n    print(\"Howdy\")\nelse:\n    print(\"Greetings\")\n\n#Not sure why it is showing an error here as this program runs fine in different compilers.\n\n               ",
      "metadata": {
        "trusted": true
      },
      "execution_count": 18,
      "outputs": [
        {
          "ename": "<class 'TypeError'>",
          "evalue": "int() argument must be a string, a bytes-like object or a real number, not 'Future'",
          "traceback": [
            "\u001b[0;31m---------------------------------------------------------------------------\u001b[0m",
            "\u001b[0;31mTypeError\u001b[0m                                 Traceback (most recent call last)",
            "Input \u001b[0;32mIn [18]\u001b[0m, in \u001b[0;36m<cell line: 2>\u001b[0;34m()\u001b[0m\n\u001b[1;32m      1\u001b[0m \u001b[38;5;66;03m#8\u001b[39;00m\n\u001b[0;32m----> 2\u001b[0m spam\u001b[38;5;241m=\u001b[39m\u001b[38;5;28;43mint\u001b[39;49m\u001b[43m(\u001b[49m\u001b[38;5;28;43minput\u001b[39;49m\u001b[43m(\u001b[49m\u001b[38;5;124;43m\"\u001b[39;49m\u001b[38;5;124;43mEnter the number: \u001b[39;49m\u001b[38;5;124;43m\"\u001b[39;49m\u001b[43m)\u001b[49m\u001b[43m)\u001b[49m\n\u001b[1;32m      4\u001b[0m \u001b[38;5;28;01mif\u001b[39;00m spam\u001b[38;5;241m==\u001b[39m\u001b[38;5;241m1\u001b[39m:\n\u001b[1;32m      5\u001b[0m     \u001b[38;5;28mprint\u001b[39m(\u001b[38;5;124m\"\u001b[39m\u001b[38;5;124mHello\u001b[39m\u001b[38;5;124m\"\u001b[39m)\n",
            "\u001b[0;31mTypeError\u001b[0m: int() argument must be a string, a bytes-like object or a real number, not 'Future'"
          ],
          "output_type": "error"
        },
        {
          "output_type": "stream",
          "name": "stdin",
          "text": "Enter the number:  1\n"
        }
      ]
    },
    {
      "cell_type": "markdown",
      "source": "9. Escape key\n10.Break ends the loop abruptly whereas continue just skips the paticular step and jumps to the next line of excution.\n11. range(10), range(0,10), range(0,10,1) are are same . Only difference is in the third expresion, we are giving the starting,ending position along with the jump to the compiler whereas in the first case, the compiler understands it by default, same goes for the jump in the second expression.\n\n",
      "metadata": {}
    },
    {
      "cell_type": "code",
      "source": "#12\nfor i in range(1,11):\n    print(i)",
      "metadata": {
        "trusted": true
      },
      "execution_count": 15,
      "outputs": [
        {
          "name": "stdout",
          "text": "1\n2\n3\n4\n5\n6\n7\n8\n9\n10\n",
          "output_type": "stream"
        }
      ]
    },
    {
      "cell_type": "code",
      "source": "i=1\nwhile(i<=10):\n    print(i)\n    i+=1",
      "metadata": {
        "trusted": true
      },
      "execution_count": 17,
      "outputs": [
        {
          "name": "stdout",
          "text": "1\n2\n3\n4\n5\n6\n7\n8\n9\n10\n",
          "output_type": "stream"
        }
      ]
    },
    {
      "cell_type": "markdown",
      "source": "13.spam.bacon()",
      "metadata": {}
    },
    {
      "cell_type": "code",
      "source": "",
      "metadata": {},
      "execution_count": null,
      "outputs": []
    }
  ]
}