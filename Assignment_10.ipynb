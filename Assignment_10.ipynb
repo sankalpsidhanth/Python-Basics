{
  "metadata": {
    "language_info": {
      "codemirror_mode": {
        "name": "python",
        "version": 3
      },
      "file_extension": ".py",
      "mimetype": "text/x-python",
      "name": "python",
      "nbconvert_exporter": "python",
      "pygments_lexer": "ipython3",
      "version": "3.8"
    },
    "kernelspec": {
      "name": "python",
      "display_name": "Python (Pyodide)",
      "language": "python"
    }
  },
  "nbformat_minor": 4,
  "nbformat": 4,
  "cells": [
    {
      "cell_type": "code",
      "source": "\"\"\"\n1. shutil. copy() will copy a single file, shutil. copytree() will copy an entire folder and every folder and file contained in it.\n\n2. rename() function is used to rename files\n\n3. The send2trash functions will move a file or folder to the recycle bin, while shutil functions will permanently delete files and folders.\n\n4. The zipfile.ZipFile() function is equivalent to the open() function; the first argument is the filename, and the second argument is the mode to open the ZIP file in (read, write, or append).\n\n\"\"\"",
      "metadata": {},
      "execution_count": null,
      "outputs": []
    },
    {
      "cell_type": "code",
      "source": "#5.\nimport os, shutil\n\ndef selectiveCopy(folder, extensions, destFolder):\n\tfolder = os.path.abspath(folder)\n\tdestFolder = os.path.abspath(destFolder)\n\tprint('Looking in', folder, 'for files with extensions of', ', '.join(extensions))\n\tfor foldername, subfolders, filenames in os.walk(folder):\n\t\tfor filename in filenames:\n\t\t\tname, extension = os.path.splitext(filename)\n\t\t\tif extension in extensions:\n\t\t\t\tfileAbsPath = foldername + os.path.sep + filename\n\t\t\t\tprint('Coping', fileAbsPath, 'to', destFolder)\n\t\t\t\tshutil.copy(fileAbsPath, destFolder)\n\nextensions = ['.php', '.py']\nfolder = 'randomFolder'\ndestFolder = 'selectiveFolder'\nselectiveCopy(folder, extensions, destFolder)\n\n",
      "metadata": {
        "trusted": true
      },
      "execution_count": 1,
      "outputs": [
        {
          "name": "stdout",
          "text": "Looking in /drive/randomFolder for files with extensions of .php, .py\n",
          "output_type": "stream"
        }
      ]
    },
    {
      "cell_type": "code",
      "source": "",
      "metadata": {},
      "execution_count": null,
      "outputs": []
    }
  ]
}