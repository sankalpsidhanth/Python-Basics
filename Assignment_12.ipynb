{
 "cells": [
  {
   "cell_type": "code",
   "execution_count": null,
   "id": "df2d5d08",
   "metadata": {},
   "outputs": [],
   "source": [
    "\"\"\"\n",
    "1.Read-binary ('rb') for PdfFileReader() and write-binary ('wb') for PdfFileWriter()\n",
    "2.getPage(4)\n",
    "3.The numPages variable stores an integer of the number of pages in the PdfFileReader object.\n",
    "4.Call decrypt('swordfish')\n",
    "5.The rotateClockwise() and rotateCounterClockwise() methods. The degrees to rotate is passed as an integer argument\n",
    "6.A document contains multiple paragraphs. A paragraph begins on a new line and contains multiple runs. \n",
    "Runs are contiguous groups of characters within the a paragraph.\n",
    "7.\n",
    "import docx\n",
    "doc = docx.Document('abc.docx')\n",
    "doc.paragraphs\n",
    "\n",
    "8.A Run object has bold, underline,italic,strike and outline variables\n",
    "\n",
    "9.True always makes the Run object bolded and False makes it always not bolded, no matter what the style’s bold setting is.\n",
    "None will make the Run object just use the style’s bold setting\n",
    "\n",
    "10.By Calling the docx.Document() function.\n",
    "\n",
    "11. \n",
    "import docx\n",
    "doc = docx.Document()\n",
    "\n",
    "doc.add_paragraph('Hello there!')\n",
    "doc.save('hellothere.docx')\n",
    "\n",
    "12. integer from 0 to 4\n",
    "\"\"\"\n"
   ]
  }
 ],
 "metadata": {
  "kernelspec": {
   "display_name": "Python 3 (ipykernel)",
   "language": "python",
   "name": "python3"
  },
  "language_info": {
   "codemirror_mode": {
    "name": "ipython",
    "version": 3
   },
   "file_extension": ".py",
   "mimetype": "text/x-python",
   "name": "python",
   "nbconvert_exporter": "python",
   "pygments_lexer": "ipython3",
   "version": "3.9.12"
  }
 },
 "nbformat": 4,
 "nbformat_minor": 5
}
