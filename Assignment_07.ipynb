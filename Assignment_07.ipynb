{
  "metadata": {
    "language_info": {
      "name": ""
    },
    "kernelspec": {
      "name": "",
      "display_name": ""
    }
  },
  "nbformat_minor": 4,
  "nbformat": 4,
  "cells": [
    {
      "cell_type": "code",
      "source": "\"\"\"\n1. re.compile()\n2. We use raw strings so that the backlashes can't be ignored.\n3. It returns the matching object\n4. Using the group() method\n5. Goup0: entire group\nGroup1: First set of parenthesis\nGroup 2: Second set of parenthesis\n6.\\., \\(, and \\).\n7. If the regex has no groups, a list of strings is returned. \nIf the regex has groups, a list of tuples of strings is returned.\n8. either or \n9. ? character can either mean \"match zero or of the preceding group\n10. + matches one or more. * matches zero or more\n11. {4} matches exactly four instances of the precceding group.\n{4,5} matches between the three and five instances\n12.The \\d, \\w, and \\s shorthand character classes match a single digit, \nword, or space character, respectively.\n13. The \\D, \\W, and \\S shorthand character classes match a single character that is not a digit, \nword, or space character, respectively.\n15.Passing re.I or re.IGNORECASE as the second argument to re.compile() will \nmake the matching case insensitive.\n16.The . character normally matches any character except the newline character. If re.DOTALL is passed as the second argument to re.compile(), \nthen the dot will also match newline characters.\n17.The . performs a greedy match, and the .? performs a nongreedy match.\n18.Either [0-9a-z] or [a-z0-9]\n19.'X drummers, X pipers, five rings, X hens'\n20.The re.VERBOSE argument allows you to add whitespace and comments to the string passed to re.compile().\n21.re.compile(r'^\\d{1,3}(,\\d{3})*$') \n22.re.compile(r'[A-Z][a-z]*\\sNakamoto')\n23.re.compile(r'(Alice|Bob|Carol)\\s(eats|pets|throws)\\s(apples|cats|baseballs)\\.', re.IGNORECASE)\n\n\n\n\"\"\"",
      "metadata": {},
      "execution_count": null,
      "outputs": []
    }
  ]
}