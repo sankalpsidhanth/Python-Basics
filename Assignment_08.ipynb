{
  "metadata": {
    "language_info": {
      "codemirror_mode": {
        "name": "python",
        "version": 3
      },
      "file_extension": ".py",
      "mimetype": "text/x-python",
      "name": "python",
      "nbconvert_exporter": "python",
      "pygments_lexer": "ipython3",
      "version": "3.8"
    },
    "kernelspec": {
      "name": "python",
      "display_name": "Pyolite",
      "language": "python"
    }
  },
  "nbformat_minor": 4,
  "nbformat": 4,
  "cells": [
    {
      "cell_type": "code",
      "source": "\"\"\"\n1. PyInput is not a part of the Python Standard Library. We must install that separately\n2. pypi is the shorter name that indicates PyInputPlus and saves ys from typying 'pyinputplus' every single time.\n3.inputInt() accepts an integer vaue and returns int value\ninputFloat(): Accepts both integer and floats but returns only float value\n\n\"\"\"\n",
      "metadata": {},
      "execution_count": null,
      "outputs": []
    },
    {
      "cell_type": "code",
      "source": "\"\"\"\n4.In the inputint function we can set the min = 0 and max =99 to ensure user enters number between 0 and 99\n\"\"\"\nimport pyinputplus as pyip\npyip.inputInt(min = 0, max =99)\n",
      "metadata": {
        "trusted": true
      },
      "execution_count": 3,
      "outputs": [
        {
          "execution_count": 3,
          "output_type": "execute_result",
          "data": {
            "text/plain": "'\\n4.In the inputint function we can set the min = 0 and max =99 to ensure user enters number between 0 and 99\\n'"
          },
          "metadata": {}
        }
      ]
    },
    {
      "cell_type": "code",
      "source": "\"\"\"\n5.We can also use regular expressions to specify whether an input is allowed or not. \nThe allowRegexes and blockRegexes keyword arguments take a list of regular expression \nstrings to determine what the PyInputPlus function will accept or reject as valid input.\n\"\"\"\nresponse = pyip.inputNum(allowRegexes=[r'(I|V|X|L|C|D|M)+', r'zero']) # it allowes roman letters as numbers too\nresponse = pyip.inputNum(blockRegexes=[r'[02468]$'])# blocks the even numbers",
      "metadata": {},
      "execution_count": null,
      "outputs": []
    },
    {
      "cell_type": "code",
      "source": "\"\"\"\n6.It will throw RetryLimitException exception.\n\"\"\"",
      "metadata": {},
      "execution_count": null,
      "outputs": []
    },
    {
      "cell_type": "code",
      "source": "\"\"\"\n7.When you use limit keyword arguments and also pass a default keyword argument, \nthe function returns the default value instead of raising an exception\n\"\"\"",
      "metadata": {},
      "execution_count": null,
      "outputs": []
    }
  ]
}