{
 "cells": [
  {
   "cell_type": "code",
   "execution_count": null,
   "id": "8ab93fa2",
   "metadata": {},
   "outputs": [],
   "source": [
    "\"\"\"\n",
    "1. Escape Characters : Some character we can not use strings to represent tham in that case, \n",
    "we use a backslash and a character that we want to put. \\t,\\n,\\\\,\\' are some example of escape characters.\n",
    "\n",
    "2. \\t: gives a tab between strings  \\n takes the cursor to new line\n",
    "\n",
    "3. \\\\\n",
    "\n",
    "4.  A single quote inside a double quote is legal way of writing a string.\n",
    "\n",
    "5. We can use multiple print statements in different lines incase we don't want to \n",
    "use \\n\n",
    "\n",
    "6. e\n",
    "Hello\n",
    "Hello\n",
    "lo,world\n",
    "\n",
    "7.HELLO\n",
    "True\n",
    "False\n",
    "\n",
    "8.''Remember,remember,the', 'fifth', 'of', 'July']\n",
    "'There-can-only-one.'\n",
    "\n",
    "9. str.ljust(s, width[, fillchar])\n",
    "str.rjust(s, width[, fillchar])\n",
    "str.center(s, width[, fillchar])\n",
    "\n",
    "\n",
    "10. We can use the strip() method to remove whitespaces.\n",
    "\n",
    "\n",
    "\n",
    "\n",
    "\n",
    "\"\"\""
   ]
  }
 ],
 "metadata": {
  "kernelspec": {
   "display_name": "Python 3 (ipykernel)",
   "language": "python",
   "name": "python3"
  },
  "language_info": {
   "codemirror_mode": {
    "name": "ipython",
    "version": 3
   },
   "file_extension": ".py",
   "mimetype": "text/x-python",
   "name": "python",
   "nbconvert_exporter": "python",
   "pygments_lexer": "ipython3",
   "version": "3.9.12"
  }
 },
 "nbformat": 4,
 "nbformat_minor": 5
}
