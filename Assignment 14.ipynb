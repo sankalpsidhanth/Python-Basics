{
 "cells": [
  {
   "cell_type": "raw",
   "id": "118e2873",
   "metadata": {},
   "source": [
    " 1. RGBA is a four channel format containing for Red, Green, Blue and an Alpha"
   ]
  },
  {
   "cell_type": "raw",
   "id": "b9f3be0d",
   "metadata": {},
   "source": [
    "2. ImageColor.getcolor() gives you rgba value of any image "
   ]
  },
  {
   "cell_type": "raw",
   "id": "d08d9ec0",
   "metadata": {},
   "source": [
    "3. A box tuple is a tuple value of four integers; the left edge x cordinate, the top edage y cordinate , the width , and the height respectively"
   ]
  },
  {
   "cell_type": "code",
   "execution_count": 3,
   "id": "b2c8a2fe",
   "metadata": {},
   "outputs": [
    {
     "name": "stdout",
     "output_type": "stream",
     "text": [
      "Width, Height -> (2976, 3968)\n",
      "Width, Height -> 2976,3968\n",
      "Width, Height -> 2976,3968\n"
     ]
    }
   ],
   "source": [
    "#4\n",
    "from PIL import Image\n",
    "pic = Image.open('Pic.jpg')\n",
    "print(f'Width, Height -> {pic.size}') # Approach 1\n",
    "print(f'Width, Height -> {pic.width},{pic.height}') # Approach 2\n",
    "width,height = pic.size\n",
    "print(f'Width, Height -> {width},{height}') # Approach 3"
   ]
  },
  {
   "cell_type": "code",
   "execution_count": null,
   "id": "6eb478d0",
   "metadata": {},
   "outputs": [],
   "source": [
    "#5\n",
    "from PIL import Image\n",
    "img = Image.open('Pic.jpg')\n",
    "new_img = img.crop((0,50,50,50))\n"
   ]
  },
  {
   "cell_type": "code",
   "execution_count": null,
   "id": "675ed3da",
   "metadata": {},
   "outputs": [],
   "source": [
    "#6.\n",
    "from PIL import Image\n",
    "pic = Image.open('pic.jpg')\n",
    "pic.save('pic2.jpg')"
   ]
  },
  {
   "cell_type": "raw",
   "id": "eb81b885",
   "metadata": {},
   "source": [
    "7. Pillows ImageDraw module contains Shape drawing methods"
   ]
  },
  {
   "cell_type": "raw",
   "id": "0a3ff738",
   "metadata": {},
   "source": [
    "8.ImageDraw objects have shape-drawing methods such as point(), line(), or rectangle().They are returned by passing the Image object to the ImageDraw.Draw() function."
   ]
  }
 ],
 "metadata": {
  "kernelspec": {
   "display_name": "Python 3 (ipykernel)",
   "language": "python",
   "name": "python3"
  },
  "language_info": {
   "codemirror_mode": {
    "name": "ipython",
    "version": 3
   },
   "file_extension": ".py",
   "mimetype": "text/x-python",
   "name": "python",
   "nbconvert_exporter": "python",
   "pygments_lexer": "ipython3",
   "version": "3.9.12"
  }
 },
 "nbformat": 4,
 "nbformat_minor": 5
}
