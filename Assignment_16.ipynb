{
 "cells": [
  {
   "cell_type": "code",
   "execution_count": 1,
   "id": "823a7701",
   "metadata": {},
   "outputs": [
    {
     "name": "stdout",
     "output_type": "stream",
     "text": [
      "[1998, 1999, 2000, 2001, 2002, 2003]\n"
     ]
    }
   ],
   "source": [
    "#1.\n",
    "year_list=[x for x in range(1998,1998+6)]\n",
    "print(year_list)"
   ]
  },
  {
   "cell_type": "code",
   "execution_count": 2,
   "id": "8f4fa626",
   "metadata": {},
   "outputs": [
    {
     "name": "stdout",
     "output_type": "stream",
     "text": [
      "2001\n"
     ]
    }
   ],
   "source": [
    "#2.\n",
    "print(year_list[3])"
   ]
  },
  {
   "cell_type": "code",
   "execution_count": 3,
   "id": "003d6cce",
   "metadata": {},
   "outputs": [
    {
     "name": "stdout",
     "output_type": "stream",
     "text": [
      "2003\n"
     ]
    }
   ],
   "source": [
    "#3.\n",
    "print(year_list[-1])"
   ]
  },
  {
   "cell_type": "code",
   "execution_count": 6,
   "id": "7219b85f",
   "metadata": {},
   "outputs": [
    {
     "name": "stdout",
     "output_type": "stream",
     "text": [
      "['mozzarella', 'cinderella', 'salmonella']\n"
     ]
    }
   ],
   "source": [
    "#4.\n",
    "things=[x+\"ella\" for x in ['mozzar','cinder','salmon']]\n",
    "print(things)"
   ]
  },
  {
   "cell_type": "code",
   "execution_count": 7,
   "id": "d3532fcf",
   "metadata": {},
   "outputs": [
    {
     "name": "stdout",
     "output_type": "stream",
     "text": [
      "['mozzarella', 'Cinderella', 'salmonella']\n"
     ]
    }
   ],
   "source": [
    "#5.\n",
    "for i in range(len(things)):\n",
    "    if things[i]==\"cinderella\":\n",
    "        things[i]=things[i].capitalize()\n",
    "print(things)"
   ]
  },
  {
   "cell_type": "code",
   "execution_count": 12,
   "id": "33dcc346",
   "metadata": {},
   "outputs": [
    {
     "name": "stdout",
     "output_type": "stream",
     "text": [
      "['Groucho', 'Chico', 'Harpo']\n"
     ]
    }
   ],
   "source": [
    "#6. \n",
    "surprise_list = ['Groucho','Chico','Harpo']\n",
    "print(surprise_list)\n"
   ]
  },
  {
   "cell_type": "code",
   "execution_count": 13,
   "id": "cfd931e1",
   "metadata": {},
   "outputs": [
    {
     "name": "stdout",
     "output_type": "stream",
     "text": [
      "Oprah\n"
     ]
    }
   ],
   "source": [
    "#7\n",
    "print(surprise_list[-1].lower()[::-1].capitalize())"
   ]
  },
  {
   "cell_type": "code",
   "execution_count": 14,
   "id": "5e196ca0",
   "metadata": {},
   "outputs": [
    {
     "name": "stdout",
     "output_type": "stream",
     "text": [
      "{'dog': 'chien', 'cat': 'chat', 'walrus': 'morse'}\n"
     ]
    }
   ],
   "source": [
    "#8\n",
    "e2f = {'dog':'chien','cat':'chat','walrus':'morse'}\n",
    "print(e2f)"
   ]
  },
  {
   "cell_type": "code",
   "execution_count": 15,
   "id": "45906b3a",
   "metadata": {},
   "outputs": [
    {
     "name": "stdout",
     "output_type": "stream",
     "text": [
      "morse\n"
     ]
    }
   ],
   "source": [
    "#9.\n",
    "print(e2f.get('walrus'))"
   ]
  },
  {
   "cell_type": "code",
   "execution_count": 16,
   "id": "797c9eae",
   "metadata": {},
   "outputs": [
    {
     "name": "stdout",
     "output_type": "stream",
     "text": [
      "{'chien': 'dog', 'chat': 'cat', 'morse': 'walrus'}\n"
     ]
    }
   ],
   "source": [
    "#10.\n",
    "f2e = dict([ele[::-1] for ele in e2f.items()])\n",
    "print(f2e)\n"
   ]
  },
  {
   "cell_type": "code",
   "execution_count": 17,
   "id": "14805d8d",
   "metadata": {},
   "outputs": [
    {
     "name": "stdout",
     "output_type": "stream",
     "text": [
      "dog\n"
     ]
    }
   ],
   "source": [
    "#11.\n",
    "print(f2e.get('chien'))"
   ]
  },
  {
   "cell_type": "code",
   "execution_count": 18,
   "id": "d2cc6fc3",
   "metadata": {},
   "outputs": [
    {
     "name": "stdout",
     "output_type": "stream",
     "text": [
      "['dog', 'cat', 'walrus']\n"
     ]
    }
   ],
   "source": [
    "#12.\n",
    "print(list(e2f.keys()))"
   ]
  },
  {
   "cell_type": "code",
   "execution_count": 19,
   "id": "2ebec528",
   "metadata": {},
   "outputs": [
    {
     "name": "stdout",
     "output_type": "stream",
     "text": [
      "{'animals': {'cats': ['Henri', 'Grumpy', 'Lucy'], 'octopi': {}, 'emus': {}}, 'plants': {}, 'other': {}}\n"
     ]
    }
   ],
   "source": [
    "#13.\n",
    "life = {\n",
    "    'animals':{\n",
    "        'cats':['Henri','Grumpy','Lucy'],\n",
    "        'octopi':{},\n",
    "        'emus':{}\n",
    "    },\n",
    "    'plants':{},\n",
    "    'other':{}\n",
    "}\n",
    "print(life)"
   ]
  },
  {
   "cell_type": "code",
   "execution_count": 20,
   "id": "8ec1538a",
   "metadata": {},
   "outputs": [
    {
     "name": "stdout",
     "output_type": "stream",
     "text": [
      "['animals', 'plants', 'other']\n"
     ]
    }
   ],
   "source": [
    "#14.\n",
    "print(list(life.keys()))\n"
   ]
  },
  {
   "cell_type": "code",
   "execution_count": 21,
   "id": "eaf37eb3",
   "metadata": {},
   "outputs": [
    {
     "name": "stdout",
     "output_type": "stream",
     "text": [
      "['cats', 'octopi', 'emus']\n"
     ]
    }
   ],
   "source": [
    "#15.\n",
    "print(list(life['animals'].keys()))"
   ]
  },
  {
   "cell_type": "code",
   "execution_count": 22,
   "id": "8c598ef1",
   "metadata": {},
   "outputs": [
    {
     "name": "stdout",
     "output_type": "stream",
     "text": [
      "['Henri', 'Grumpy', 'Lucy']\n"
     ]
    }
   ],
   "source": [
    "#16\n",
    "print(life['animals']['cats'])"
   ]
  }
 ],
 "metadata": {
  "kernelspec": {
   "display_name": "Python 3 (ipykernel)",
   "language": "python",
   "name": "python3"
  },
  "language_info": {
   "codemirror_mode": {
    "name": "ipython",
    "version": 3
   },
   "file_extension": ".py",
   "mimetype": "text/x-python",
   "name": "python",
   "nbconvert_exporter": "python",
   "pygments_lexer": "ipython3",
   "version": "3.9.12"
  }
 },
 "nbformat": 4,
 "nbformat_minor": 5
}
