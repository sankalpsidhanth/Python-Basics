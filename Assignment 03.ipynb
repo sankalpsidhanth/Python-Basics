{
 "cells": [
  {
   "cell_type": "markdown",
   "id": "9ab0c038",
   "metadata": {},
   "source": [
    "1. Advantages of functions: a)Code reusability b)Code gets mode redable c) Duplication of code gets eliminated "
   ]
  },
  {
   "cell_type": "markdown",
   "id": "0ad30af2",
   "metadata": {},
   "source": [
    "2. A function runs when its called.\n"
   ]
  },
  {
   "cell_type": "markdown",
   "id": "3de860f8",
   "metadata": {},
   "source": [
    "3.The function definitaion with the keyword 'def' creates the function ."
   ]
  },
  {
   "cell_type": "markdown",
   "id": "e6b2db19",
   "metadata": {},
   "source": [
    "4. A function defines what task the code needs to do whereas a function calls specifies when to do it. Each time we call a function , it means we want the the code in the function to execute."
   ]
  },
  {
   "cell_type": "markdown",
   "id": "8bd804b7",
   "metadata": {},
   "source": [
    "5. There is only one global scope and one local scope in python programming."
   ]
  },
  {
   "cell_type": "markdown",
   "id": "0ec2f38a",
   "metadata": {},
   "source": [
    "6. A local variable gets undefined once a function is called and retains its last value."
   ]
  },
  {
   "cell_type": "markdown",
   "id": "e9277f12",
   "metadata": {},
   "source": [
    "7. The value that the function returns after execution is called return value.  No, in an expression we can't return a value."
   ]
  },
  {
   "cell_type": "markdown",
   "id": "eec0d094",
   "metadata": {},
   "source": [
    "8.If a function doesn't have a return statement then its undefined and is called void.\n"
   ]
  },
  {
   "cell_type": "markdown",
   "id": "50a660fb",
   "metadata": {},
   "source": [
    "9. By using 'global' keywords we can refer to a global variable inside a function."
   ]
  },
  {
   "cell_type": "markdown",
   "id": "0dbeeada",
   "metadata": {},
   "source": [
    "10. None is a data type of its own."
   ]
  },
  {
   "cell_type": "markdown",
   "id": "d363f589",
   "metadata": {},
   "source": [
    "11. It imports the 'areallyourpetsnamederic' module from the python library."
   ]
  },
  {
   "cell_type": "markdown",
   "id": "f9939c2f",
   "metadata": {},
   "source": [
    "12. spam.bacon()"
   ]
  },
  {
   "cell_type": "markdown",
   "id": "b06ec698",
   "metadata": {},
   "source": [
    "13. Use the 'try' block to check for errors"
   ]
  },
  {
   "cell_type": "markdown",
   "id": "0efeba26",
   "metadata": {},
   "source": [
    "14. a)Try helps us to check for errors in a program. b)Except block helps us to handle the error."
   ]
  },
  {
   "cell_type": "code",
   "execution_count": null,
   "id": "4c0fc04f",
   "metadata": {},
   "outputs": [],
   "source": []
  }
 ],
 "metadata": {
  "kernelspec": {
   "display_name": "Python 3 (ipykernel)",
   "language": "python",
   "name": "python3"
  },
  "language_info": {
   "codemirror_mode": {
    "name": "ipython",
    "version": 3
   },
   "file_extension": ".py",
   "mimetype": "text/x-python",
   "name": "python",
   "nbconvert_exporter": "python",
   "pygments_lexer": "ipython3",
   "version": "3.9.12"
  }
 },
 "nbformat": 4,
 "nbformat_minor": 5
}
