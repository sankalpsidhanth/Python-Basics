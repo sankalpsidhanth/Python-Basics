{
 "cells": [
  {
   "cell_type": "code",
   "execution_count": null,
   "id": "71d797a4",
   "metadata": {},
   "outputs": [],
   "source": [
    "\"\"\"\n",
    "1. Advantages of functions: \n",
    "a)Code reusability\n",
    "b)Code gets mode redable \n",
    "c) Duplication of code gets eliminated \n",
    "\n",
    "\n",
    "2. A function runs when its called.\n",
    "\n",
    "\n",
    "3.The function definitaion with the keyword 'def' creates the function .\n",
    "\n",
    "\n",
    "4. A function defines what task the code needs to do whereas a function calls specifies when to do it. \n",
    "Each time we call a function , it means we want the the code in the function to execute.\n",
    "\n",
    "5. There is only one global scope and one local scope in python programming.\n",
    "\n",
    "6. A local variable gets undefined once a function is called and retains its last value.\n",
    "\n",
    "\n",
    "7. The value that the function returns after execution is called return value. \n",
    "No, in an expression we can't return a value.\n",
    "\n",
    "8.If a function doesn't have a return statement then its undefined and is called void.\n",
    "\n",
    "9. By using 'global' keywords we can refer to a global variable inside a function.\n",
    "\n",
    "10. None is a data type of its own.\n",
    "\n",
    "11. It imports the 'areallyourpetsnamederic' module from the python library.\n",
    "\n",
    "12. spam.bacon()\n",
    "\n",
    "\n",
    "13. Use the 'try' block to check for errors\n",
    "\n",
    "\n",
    "14. a)Try helps us to check for errors in a program. \n",
    "b)Except block helps us to handle the error.\n",
    "\n",
    "\n",
    "\n",
    "\"\"\""
   ]
  }
 ],
 "metadata": {
  "kernelspec": {
   "display_name": "Python 3 (ipykernel)",
   "language": "python",
   "name": "python3"
  },
  "language_info": {
   "codemirror_mode": {
    "name": "ipython",
    "version": 3
   },
   "file_extension": ".py",
   "mimetype": "text/x-python",
   "name": "python",
   "nbconvert_exporter": "python",
   "pygments_lexer": "ipython3",
   "version": "3.9.12"
  }
 },
 "nbformat": 4,
 "nbformat_minor": 5
}
