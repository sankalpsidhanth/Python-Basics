{
 "cells": [
  {
   "cell_type": "code",
   "execution_count": 3,
   "id": "592d4839",
   "metadata": {},
   "outputs": [
    {
     "name": "stdout",
     "output_type": "stream",
     "text": [
      "Enter your number to find its factorial: 3\n",
      "Factorial of the given  3 is  6\n"
     ]
    }
   ],
   "source": [
    "#1. Program to Find Factorial of a Number \n",
    "\n",
    "number=int(input(\"Enter your number to find its factorial: \"))\n",
    "\n",
    "factorial=1\n",
    "\n",
    "if number<0:\n",
    "    print(\"Factorials doesn't exist\")\n",
    "elif number==0:\n",
    "    print(\"Factorial for 0 is 1\")\n",
    "else:\n",
    "    for i in range(1, number+1):\n",
    "        factorial=factorial*i\n",
    "    print(\"Factorial of the given \",number,\"is \",factorial)"
   ]
  },
  {
   "cell_type": "code",
   "execution_count": 8,
   "id": "361be8cd",
   "metadata": {},
   "outputs": [
    {
     "name": "stdout",
     "output_type": "stream",
     "text": [
      "Enter the number: 5\n",
      "Here is the multiplication table of your given number: \n",
      "5 X 1 = 5\n",
      "5 X 2 = 10\n",
      "5 X 3 = 15\n",
      "5 X 4 = 20\n",
      "5 X 5 = 25\n",
      "5 X 6 = 30\n",
      "5 X 7 = 35\n",
      "5 X 8 = 40\n",
      "5 X 9 = 45\n",
      "5 X 10 = 50\n"
     ]
    }
   ],
   "source": [
    "#2. Program to print multiplication table\n",
    "num=int(input(\"Enter the number: \"))\n",
    "print(\"Here is the multiplication table of your given number: \")\n",
    "\n",
    "for i in range(1, 11):\n",
    "    print(num,\"X\",i,\"=\",num*i)"
   ]
  },
  {
   "cell_type": "code",
   "execution_count": 6,
   "id": "36897fea",
   "metadata": {},
   "outputs": [
    {
     "name": "stdout",
     "output_type": "stream",
     "text": [
      "Enter the number: 6\n",
      "Here is your fibonacci series: \n",
      "0\n",
      "1\n",
      "1\n",
      "2\n",
      "3\n",
      "5\n"
     ]
    }
   ],
   "source": [
    "#3. Program to find fibonacci series \n",
    "def fib(n):\n",
    "    a=0\n",
    "    b=1\n",
    "    print(a)\n",
    "    print(b)\n",
    "    for i in range(2,n):\n",
    "            c=a+b\n",
    "            a=b\n",
    "            b=c\n",
    "            print(c)\n",
    "n=int(input(\"Enter the number: \"))\n",
    "print(\"Here is your fibonacci series: \")\n",
    "fib(n)"
   ]
  },
  {
   "cell_type": "code",
   "execution_count": 9,
   "id": "a2e2d133",
   "metadata": {},
   "outputs": [
    {
     "name": "stdout",
     "output_type": "stream",
     "text": [
      "Enter a number: 153\n",
      "153  is an Arm Strong Number\n"
     ]
    }
   ],
   "source": [
    "#4. Program for Arm Strong Number\n",
    "Number=int(input(\"Enter a number: \"))\n",
    "Sum=0\n",
    "\n",
    "Order= len(str(Number))\n",
    "\n",
    "Copy_n=Number\n",
    "\n",
    "while(Number>0):\n",
    "    digit= Number%10\n",
    "    Sum += digit**Order\n",
    "    \n",
    "    Number=Number//10\n",
    "    \n",
    "if Sum==Copy_n:\n",
    "    print(Copy_n,\" is an Arm Strong Number\")\n",
    "else:\n",
    "    print(Copy_n,\" is not an Arm Strong Number\")\n",
    "    \n",
    "\n",
    "\n"
   ]
  },
  {
   "cell_type": "code",
   "execution_count": 14,
   "id": "885ef0cc",
   "metadata": {},
   "outputs": [
    {
     "name": "stdout",
     "output_type": "stream",
     "text": [
      "Enter a number: 10\n",
      "Sum of  10  natural numbers is  55\n"
     ]
    }
   ],
   "source": [
    "#Program to print sum of Natural Numbers\n",
    "\n",
    "n2=int(input(\"Enter a number: \"))\n",
    "hold=n2\n",
    "s=0\n",
    "if n2<=0:\n",
    "    print(\"Enter a positive number.\")\n",
    "else:\n",
    "    while (n2>0):\n",
    "        s+=n2\n",
    "        n2=n2-1\n",
    "    print(\"Sum of \",hold,\" natural numbers is \",s)"
   ]
  },
  {
   "cell_type": "code",
   "execution_count": null,
   "id": "4fbb57bc",
   "metadata": {},
   "outputs": [],
   "source": []
  }
 ],
 "metadata": {
  "kernelspec": {
   "display_name": "Python 3 (ipykernel)",
   "language": "python",
   "name": "python3"
  },
  "language_info": {
   "codemirror_mode": {
    "name": "ipython",
    "version": 3
   },
   "file_extension": ".py",
   "mimetype": "text/x-python",
   "name": "python",
   "nbconvert_exporter": "python",
   "pygments_lexer": "ipython3",
   "version": "3.9.12"
  }
 },
 "nbformat": 4,
 "nbformat_minor": 5
}
