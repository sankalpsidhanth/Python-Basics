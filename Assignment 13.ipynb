{
 "cells": [
  {
   "cell_type": "code",
   "execution_count": null,
   "id": "a233c642",
   "metadata": {},
   "outputs": [],
   "source": [
    "\"\"\"\n",
    "1. CSV consumes less amount of file size when user is importing data; \n",
    "it is much faster format compared to excell. CSV doesn't manipulate data \n",
    "and stores as it is.\n",
    "\n",
    "2. First, call open() and pass it 'w' to open a file in write mode . \n",
    "This will create the object you can then pass to csv.writer() to create a Writer object.\n",
    "\n",
    "To read a CSV file with the csv module, first open it using the open() function , \n",
    "just as you would any other text file. But instead of calling the read() or readlines() method on the File object that open() returns,\n",
    "pass it to the csv.reader() function . This will return a Reader object for you to use.\n",
    "\n",
    "\n",
    "3. File objects for reader and writer objects needs to be opened in binary mode.\n",
    "\n",
    "4.csv.writer.writerow()\n",
    "\n",
    "5.The delimiter is the character that appears between cells on a row. By default,\n",
    "the delimiter for a CSV file is a comma. The line terminator is the character that comes at the end of a row. \n",
    "By default, the line terminator is a newline.\n",
    "\n",
    "6. json.loads() method return Python data structure of JSON String or data\n",
    "\n",
    "\n",
    "7.json.dumps() method retons JSON String by taking a Python object.\n",
    "\n",
    "\n",
    "\n",
    "\n",
    "\n",
    "\"\"\""
   ]
  }
 ],
 "metadata": {
  "kernelspec": {
   "display_name": "Python 3 (ipykernel)",
   "language": "python",
   "name": "python3"
  },
  "language_info": {
   "codemirror_mode": {
    "name": "ipython",
    "version": 3
   },
   "file_extension": ".py",
   "mimetype": "text/x-python",
   "name": "python",
   "nbconvert_exporter": "python",
   "pygments_lexer": "ipython3",
   "version": "3.9.12"
  }
 },
 "nbformat": 4,
 "nbformat_minor": 5
}
